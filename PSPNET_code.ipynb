{
  "nbformat": 4,
  "nbformat_minor": 0,
  "metadata": {
    "colab": {
      "name": "PSPNET code",
      "provenance": [],
      "collapsed_sections": [],
      "machine_shape": "hm"
    },
    "kernelspec": {
      "display_name": "Python 3",
      "name": "python3"
    }
  },
  "cells": [
    {
      "cell_type": "markdown",
      "metadata": {
        "id": "VCYXMpNHFaT7"
      },
      "source": [
        ""
      ]
    },
    {
      "cell_type": "code",
      "metadata": {
        "id": "j4gsYXgYjSMC"
      },
      "source": [
        "import pandas as pd"
      ],
      "execution_count": null,
      "outputs": []
    },
    {
      "cell_type": "code",
      "metadata": {
        "id": "91wUyt1YLqk3"
      },
      "source": [
        "import numpy as np\n",
        "import time\n",
        "import os\n",
        "import matplotlib.pyplot as plt\n",
        "import cv2\n",
        "import tensorflow as tf\n",
        "from tensorflow import keras\n",
        "import tensorflow.keras.backend as K\n",
        "from tensorflow.keras.layers import Convolution2D,BatchNormalization,ReLU,LeakyReLU,Add,Activation\n",
        "from tensorflow.keras.layers import GlobalAveragePooling2D,AveragePooling2D,UpSampling2D"
      ],
      "execution_count": null,
      "outputs": []
    },
    {
      "cell_type": "code",
      "metadata": {
        "id": "FE0d5d-7EkQk"
      },
      "source": [
        "import tensorflow as tf\n",
        "from tensorflow import keras"
      ],
      "execution_count": null,
      "outputs": []
    },
    {
      "cell_type": "code",
      "metadata": {
        "id": "AyzdyqrSKFAD"
      },
      "source": [
        "!pip install -q -U keras-tuner "
      ],
      "execution_count": null,
      "outputs": []
    },
    {
      "cell_type": "code",
      "metadata": {
        "colab": {
          "base_uri": "https://localhost:8080/"
        },
        "id": "4q5rwwDfKOx1",
        "outputId": "0ce87d30-a6da-4f5e-90b8-39dfa34ee467"
      },
      "source": [
        "from google.colab import drive\n",
        "drive.mount('/content/drive')"
      ],
      "execution_count": null,
      "outputs": [
        {
          "name": "stdout",
          "output_type": "stream",
          "text": [
            "Drive already mounted at /content/drive; to attempt to forcibly remount, call drive.mount(\"/content/drive\", force_remount=True).\n"
          ]
        }
      ]
    },
    {
      "cell_type": "code",
      "metadata": {
        "id": "PP99aybkKC4i"
      },
      "source": [
        "import keras_tuner as kt"
      ],
      "execution_count": null,
      "outputs": []
    },
    {
      "cell_type": "code",
      "metadata": {
        "id": "aPHRtG-pKBuh"
      },
      "source": [
        "from os.path import join, isdir\n",
        "from os import listdir, rmdir\n",
        "from shutil import move, rmtree, make_archive\n",
        "\n",
        "import os\n",
        "import cv2\n",
        "import glob\n",
        "import pickle\n",
        "import numpy as np\n",
        "import tensorflow as tf\n",
        "\n",
        "from PIL import Image\n",
        "import matplotlib.pyplot as plt\n",
        "\n",
        "from sklearn.cluster import KMeans\n",
        "from tensorflow.keras.optimizers import Adam,SGD\n",
        "# from keras.optimizers import Adam, SGD\n",
        "from keras.callbacks import ModelCheckpoint\n",
        "from keras.models import Sequential, Model, load_model\n",
        "from keras.layers import Dense, Input, Dropout, Activation, Flatten, BatchNormalization, ReLU, LeakyReLU, concatenate\n",
        "from keras.layers import Conv2D, MaxPooling2D, UpSampling2D, AveragePooling2D, GlobalAveragePooling2D, Add"
      ],
      "execution_count": null,
      "outputs": []
    },
    {
      "cell_type": "code",
      "metadata": {
        "id": "6mcG6y2hLVbZ"
      },
      "source": [
        "train_folder= \"/content/drive/MyDrive/NEW Project/train/\"\n",
        "valid_folder= \"/content/drive/MyDrive/NEW Project/val/\""
      ],
      "execution_count": null,
      "outputs": []
    },
    {
      "cell_type": "code",
      "metadata": {
        "id": "zCCuYHeDX4K1"
      },
      "source": [
        "from google.colab.patches import cv2_imshow"
      ],
      "execution_count": null,
      "outputs": []
    },
    {
      "cell_type": "code",
      "metadata": {
        "id": "4W6cp1pcLbyb"
      },
      "source": [
        "# Folder -> taking out image and mask\n",
        "# im.read( read kr raha\n",
        "def get_images_masks(path):\n",
        "    names=os.listdir(path)\n",
        "    # print(names)\n",
        "    img_g,img_m=[],[]\n",
        "    for name in names:\n",
        "        img=cv2.imread(path+name)\n",
        "        # cv2_imshow(img)\n",
        "        # Differentiates mask and normal photo(normalise similar pixel)\n",
        "        img=cv2.normalize(img,None,0,1,cv2.NORM_MINMAX,cv2.CV_32F)\n",
        "        # print(img)\n",
        "        img=img[:,:,::-1]\n",
        "        # print(img.shape)\n",
        "        # img_g is actual, img_m is mask\n",
        "        img_g.append(img[:,:256])\n",
        "        \n",
        "        img_m.append(np.reshape(img[:,256:],(256*256*3)))\n",
        "        del img\n",
        "    del names\n",
        "    return img_g,img_m\n",
        "        \n",
        "train_imgs,train_masks=get_images_masks(train_folder)\n",
        "valid_imgs,valid_masks=get_images_masks(valid_folder)\n",
        "\n",
        "#train_len=len(train_imgs)\n",
        "#valid_len=len(valid_imgs)\n",
        "#print(f'Train Images:{train_len}\\nValid Images:{valid_len}')"
      ],
      "execution_count": null,
      "outputs": []
    },
    {
      "cell_type": "markdown",
      "metadata": {
        "id": "asC8ruGqfIUp"
      },
      "source": [
        "Model Architecture"
      ]
    },
    {
      "cell_type": "code",
      "metadata": {
        "id": "zf8wPyeTLxcg"
      },
      "source": [
        "def conv_block(X,filters,block):\n",
        "    # resiudal block with dilated convolutions\n",
        "    # add skip connection at last after doing convoluion operation to input X\n",
        "    \n",
        "    b = 'block_'+str(block)+'_'\n",
        "    f1,f2,f3 = filters\n",
        "    X_skip = X\n",
        "    # block_a\n",
        "    X = Convolution2D(filters=f1,kernel_size=(1,1),dilation_rate=(1,1),\n",
        "                      padding='same',kernel_initializer='he_normal',name=b+'a')(X)\n",
        "    X = BatchNormalization(name=b+'batch_norm_a')(X)\n",
        "    X = LeakyReLU(alpha=0.2,name=b+'leakyrelu_a')(X)\n",
        "    # block_b\n",
        "    X = Convolution2D(filters=f2,kernel_size=(3,3),dilation_rate=(2,2),\n",
        "                      padding='same',kernel_initializer='he_normal',name=b+'b')(X)\n",
        "    X = BatchNormalization(name=b+'batch_norm_b')(X)\n",
        "    X = LeakyReLU(alpha=0.2,name=b+'leakyrelu_b')(X)\n",
        "    # block_c\n",
        "    X = Convolution2D(filters=f3,kernel_size=(1,1),dilation_rate=(1,1),\n",
        "                      padding='same',kernel_initializer='he_normal',name=b+'c')(X)\n",
        "    X = BatchNormalization(name=b+'batch_norm_c')(X)\n",
        "    # skip_conv\n",
        "    X_skip = Convolution2D(filters=f3,kernel_size=(3,3),padding='same',name=b+'skip_conv')(X_skip)\n",
        "    X_skip = BatchNormalization(name=b+'batch_norm_skip_conv')(X_skip)\n",
        "    # block_c + skip_conv\n",
        "    X = Add(name=b+'add')([X,X_skip])\n",
        "    X = ReLU(name=b+'relu')(X)\n",
        "    return X\n",
        "    \n",
        "def base_feature_maps(input_layer):\n",
        "    # base covolution module to get input image feature maps \n",
        "    \n",
        "    # block_1\n",
        "    base = conv_block(input_layer,[32,32,64],'1')\n",
        "    # block_2\n",
        "    base = conv_block(base,[64,64,128],'2')\n",
        "    # block_3\n",
        "    base = conv_block(base,[128,128,256],'3')\n",
        "    return base\n",
        "\n",
        "def pyramid_feature_maps(input_layer):\n",
        "    # pyramid pooling module\n",
        "    \n",
        "    base = base_feature_maps(input_layer)\n",
        "    # red\n",
        "    red = GlobalAveragePooling2D(name='red_pool')(base)\n",
        "    red = tf.keras.layers.Reshape((1,1,256))(red)\n",
        "    red = Convolution2D(filters=64,kernel_size=(1,1),name='red_1_by_1')(red)\n",
        "    red = UpSampling2D(size=256,interpolation='bilinear',name='red_upsampling')(red)\n",
        "    # yellow\n",
        "    yellow = AveragePooling2D(pool_size=(2,2),name='yellow_pool')(base)\n",
        "    yellow = Convolution2D(filters=64,kernel_size=(1,1),name='yellow_1_by_1')(yellow)\n",
        "    yellow = UpSampling2D(size=2,interpolation='bilinear',name='yellow_upsampling')(yellow)\n",
        "    # blue\n",
        "    blue = AveragePooling2D(pool_size=(4,4),name='blue_pool')(base)\n",
        "    blue = Convolution2D(filters=64,kernel_size=(1,1),name='blue_1_by_1')(blue)\n",
        "    blue = UpSampling2D(size=4,interpolation='bilinear',name='blue_upsampling')(blue)\n",
        "    # green\n",
        "    green = AveragePooling2D(pool_size=(8,8),name='green_pool')(base)\n",
        "    green = Convolution2D(filters=64,kernel_size=(1,1),name='green_1_by_1')(green)\n",
        "    green = UpSampling2D(size=8,interpolation='bilinear',name='green_upsampling')(green)\n",
        "    # base + red + yellow + blue + green\n",
        "    return tf.keras.layers.concatenate([base,red,yellow,blue,green])\n",
        "\n",
        "def last_conv_module(input_layer):\n",
        "    X = pyramid_feature_maps(input_layer)\n",
        "    X = Convolution2D(filters=3,kernel_size=3,padding='same',name='last_conv_3_by_3')(X)\n",
        "    X = BatchNormalization(name='last_conv_3_by_3_batch_norm')(X)\n",
        "    X = Activation('sigmoid',name='last_conv_relu')(X)\n",
        "    X = tf.keras.layers.Flatten(name='last_conv_flatten')(X)\n",
        "    return X"
      ],
      "execution_count": null,
      "outputs": []
    },
    {
      "cell_type": "code",
      "metadata": {
        "id": "GhfhSuOsbRhG"
      },
      "source": [
        "# model creation\n",
        "input_layer = tf.keras.Input(shape=np.squeeze(train_imgs[0]).shape,name='input')\n",
        "output_layer = last_conv_module(input_layer)\n",
        "model = tf.keras.Model(inputs=input_layer,outputs=output_layer)"
      ],
      "execution_count": null,
      "outputs": []
    },
    {
      "cell_type": "code",
      "metadata": {
        "colab": {
          "base_uri": "https://localhost:8080/"
        },
        "id": "jnX2-rPybbUU",
        "outputId": "a1e2a3ad-62e7-46cd-ad4d-7ceacbcde74b"
      },
      "source": [
        "model.summary()"
      ],
      "execution_count": null,
      "outputs": [
        {
          "name": "stdout",
          "output_type": "stream",
          "text": [
            "Model: \"model\"\n",
            "__________________________________________________________________________________________________\n",
            "Layer (type)                    Output Shape         Param #     Connected to                     \n",
            "==================================================================================================\n",
            "input (InputLayer)              [(None, 256, 256, 3) 0                                            \n",
            "__________________________________________________________________________________________________\n",
            "block_1_a (Conv2D)              (None, 256, 256, 32) 128         input[0][0]                      \n",
            "__________________________________________________________________________________________________\n",
            "block_1_batch_norm_a (BatchNorm (None, 256, 256, 32) 128         block_1_a[0][0]                  \n",
            "__________________________________________________________________________________________________\n",
            "block_1_leakyrelu_a (LeakyReLU) (None, 256, 256, 32) 0           block_1_batch_norm_a[0][0]       \n",
            "__________________________________________________________________________________________________\n",
            "block_1_b (Conv2D)              (None, 256, 256, 32) 9248        block_1_leakyrelu_a[0][0]        \n",
            "__________________________________________________________________________________________________\n",
            "block_1_batch_norm_b (BatchNorm (None, 256, 256, 32) 128         block_1_b[0][0]                  \n",
            "__________________________________________________________________________________________________\n",
            "block_1_leakyrelu_b (LeakyReLU) (None, 256, 256, 32) 0           block_1_batch_norm_b[0][0]       \n",
            "__________________________________________________________________________________________________\n",
            "block_1_c (Conv2D)              (None, 256, 256, 64) 2112        block_1_leakyrelu_b[0][0]        \n",
            "__________________________________________________________________________________________________\n",
            "block_1_skip_conv (Conv2D)      (None, 256, 256, 64) 1792        input[0][0]                      \n",
            "__________________________________________________________________________________________________\n",
            "block_1_batch_norm_c (BatchNorm (None, 256, 256, 64) 256         block_1_c[0][0]                  \n",
            "__________________________________________________________________________________________________\n",
            "block_1_batch_norm_skip_conv (B (None, 256, 256, 64) 256         block_1_skip_conv[0][0]          \n",
            "__________________________________________________________________________________________________\n",
            "block_1_add (Add)               (None, 256, 256, 64) 0           block_1_batch_norm_c[0][0]       \n",
            "                                                                 block_1_batch_norm_skip_conv[0][0\n",
            "__________________________________________________________________________________________________\n",
            "block_1_relu (ReLU)             (None, 256, 256, 64) 0           block_1_add[0][0]                \n",
            "__________________________________________________________________________________________________\n",
            "block_2_a (Conv2D)              (None, 256, 256, 64) 4160        block_1_relu[0][0]               \n",
            "__________________________________________________________________________________________________\n",
            "block_2_batch_norm_a (BatchNorm (None, 256, 256, 64) 256         block_2_a[0][0]                  \n",
            "__________________________________________________________________________________________________\n",
            "block_2_leakyrelu_a (LeakyReLU) (None, 256, 256, 64) 0           block_2_batch_norm_a[0][0]       \n",
            "__________________________________________________________________________________________________\n",
            "block_2_b (Conv2D)              (None, 256, 256, 64) 36928       block_2_leakyrelu_a[0][0]        \n",
            "__________________________________________________________________________________________________\n",
            "block_2_batch_norm_b (BatchNorm (None, 256, 256, 64) 256         block_2_b[0][0]                  \n",
            "__________________________________________________________________________________________________\n",
            "block_2_leakyrelu_b (LeakyReLU) (None, 256, 256, 64) 0           block_2_batch_norm_b[0][0]       \n",
            "__________________________________________________________________________________________________\n",
            "block_2_c (Conv2D)              (None, 256, 256, 128 8320        block_2_leakyrelu_b[0][0]        \n",
            "__________________________________________________________________________________________________\n",
            "block_2_skip_conv (Conv2D)      (None, 256, 256, 128 73856       block_1_relu[0][0]               \n",
            "__________________________________________________________________________________________________\n",
            "block_2_batch_norm_c (BatchNorm (None, 256, 256, 128 512         block_2_c[0][0]                  \n",
            "__________________________________________________________________________________________________\n",
            "block_2_batch_norm_skip_conv (B (None, 256, 256, 128 512         block_2_skip_conv[0][0]          \n",
            "__________________________________________________________________________________________________\n",
            "block_2_add (Add)               (None, 256, 256, 128 0           block_2_batch_norm_c[0][0]       \n",
            "                                                                 block_2_batch_norm_skip_conv[0][0\n",
            "__________________________________________________________________________________________________\n",
            "block_2_relu (ReLU)             (None, 256, 256, 128 0           block_2_add[0][0]                \n",
            "__________________________________________________________________________________________________\n",
            "block_3_a (Conv2D)              (None, 256, 256, 128 16512       block_2_relu[0][0]               \n",
            "__________________________________________________________________________________________________\n",
            "block_3_batch_norm_a (BatchNorm (None, 256, 256, 128 512         block_3_a[0][0]                  \n",
            "__________________________________________________________________________________________________\n",
            "block_3_leakyrelu_a (LeakyReLU) (None, 256, 256, 128 0           block_3_batch_norm_a[0][0]       \n",
            "__________________________________________________________________________________________________\n",
            "block_3_b (Conv2D)              (None, 256, 256, 128 147584      block_3_leakyrelu_a[0][0]        \n",
            "__________________________________________________________________________________________________\n",
            "block_3_batch_norm_b (BatchNorm (None, 256, 256, 128 512         block_3_b[0][0]                  \n",
            "__________________________________________________________________________________________________\n",
            "block_3_leakyrelu_b (LeakyReLU) (None, 256, 256, 128 0           block_3_batch_norm_b[0][0]       \n",
            "__________________________________________________________________________________________________\n",
            "block_3_c (Conv2D)              (None, 256, 256, 256 33024       block_3_leakyrelu_b[0][0]        \n",
            "__________________________________________________________________________________________________\n",
            "block_3_skip_conv (Conv2D)      (None, 256, 256, 256 295168      block_2_relu[0][0]               \n",
            "__________________________________________________________________________________________________\n",
            "block_3_batch_norm_c (BatchNorm (None, 256, 256, 256 1024        block_3_c[0][0]                  \n",
            "__________________________________________________________________________________________________\n",
            "block_3_batch_norm_skip_conv (B (None, 256, 256, 256 1024        block_3_skip_conv[0][0]          \n",
            "__________________________________________________________________________________________________\n",
            "block_3_add (Add)               (None, 256, 256, 256 0           block_3_batch_norm_c[0][0]       \n",
            "                                                                 block_3_batch_norm_skip_conv[0][0\n",
            "__________________________________________________________________________________________________\n",
            "block_3_relu (ReLU)             (None, 256, 256, 256 0           block_3_add[0][0]                \n",
            "__________________________________________________________________________________________________\n",
            "red_pool (GlobalAveragePooling2 (None, 256)          0           block_3_relu[0][0]               \n",
            "__________________________________________________________________________________________________\n",
            "reshape (Reshape)               (None, 1, 1, 256)    0           red_pool[0][0]                   \n",
            "__________________________________________________________________________________________________\n",
            "yellow_pool (AveragePooling2D)  (None, 128, 128, 256 0           block_3_relu[0][0]               \n",
            "__________________________________________________________________________________________________\n",
            "blue_pool (AveragePooling2D)    (None, 64, 64, 256)  0           block_3_relu[0][0]               \n",
            "__________________________________________________________________________________________________\n",
            "green_pool (AveragePooling2D)   (None, 32, 32, 256)  0           block_3_relu[0][0]               \n",
            "__________________________________________________________________________________________________\n",
            "red_1_by_1 (Conv2D)             (None, 1, 1, 64)     16448       reshape[0][0]                    \n",
            "__________________________________________________________________________________________________\n",
            "yellow_1_by_1 (Conv2D)          (None, 128, 128, 64) 16448       yellow_pool[0][0]                \n",
            "__________________________________________________________________________________________________\n",
            "blue_1_by_1 (Conv2D)            (None, 64, 64, 64)   16448       blue_pool[0][0]                  \n",
            "__________________________________________________________________________________________________\n",
            "green_1_by_1 (Conv2D)           (None, 32, 32, 64)   16448       green_pool[0][0]                 \n",
            "__________________________________________________________________________________________________\n",
            "red_upsampling (UpSampling2D)   (None, 256, 256, 64) 0           red_1_by_1[0][0]                 \n",
            "__________________________________________________________________________________________________\n",
            "yellow_upsampling (UpSampling2D (None, 256, 256, 64) 0           yellow_1_by_1[0][0]              \n",
            "__________________________________________________________________________________________________\n",
            "blue_upsampling (UpSampling2D)  (None, 256, 256, 64) 0           blue_1_by_1[0][0]                \n",
            "__________________________________________________________________________________________________\n",
            "green_upsampling (UpSampling2D) (None, 256, 256, 64) 0           green_1_by_1[0][0]               \n",
            "__________________________________________________________________________________________________\n",
            "concatenate (Concatenate)       (None, 256, 256, 512 0           block_3_relu[0][0]               \n",
            "                                                                 red_upsampling[0][0]             \n",
            "                                                                 yellow_upsampling[0][0]          \n",
            "                                                                 blue_upsampling[0][0]            \n",
            "                                                                 green_upsampling[0][0]           \n",
            "__________________________________________________________________________________________________\n",
            "last_conv_3_by_3 (Conv2D)       (None, 256, 256, 3)  13827       concatenate[0][0]                \n",
            "__________________________________________________________________________________________________\n",
            "last_conv_3_by_3_batch_norm (Ba (None, 256, 256, 3)  12          last_conv_3_by_3[0][0]           \n",
            "__________________________________________________________________________________________________\n",
            "last_conv_relu (Activation)     (None, 256, 256, 3)  0           last_conv_3_by_3_batch_norm[0][0]\n",
            "__________________________________________________________________________________________________\n",
            "last_conv_flatten (Flatten)     (None, 196608)       0           last_conv_relu[0][0]             \n",
            "==================================================================================================\n",
            "Total params: 713,839\n",
            "Trainable params: 711,145\n",
            "Non-trainable params: 2,694\n",
            "__________________________________________________________________________________________________\n"
          ]
        }
      ]
    },
    {
      "cell_type": "code",
      "metadata": {
        "id": "IC1yMALTbfJ8"
      },
      "source": [
        "# model.load_weights('/kaggle/input/best-modelh5/best_model.h5')"
      ],
      "execution_count": null,
      "outputs": []
    },
    {
      "cell_type": "code",
      "metadata": {
        "colab": {
          "background_save": true,
          "base_uri": "https://localhost:8080/"
        },
        "id": "Rb_tRNnxblst",
        "outputId": "67cc2254-a974-4639-9045-220ae5ceed45"
      },
      "source": [
        "# model compile \n",
        "model.compile(optimizer=tf.keras.optimizers.Adam(learning_rate=0.001),loss='mse', metrics = ['mse'])\n",
        "model.fit(np.array(train_imgs,dtype='float16'),np.array(train_masks,dtype='float16'),\n",
        "          validation_data=(np.array(valid_imgs,dtype='float16'),np.array(valid_masks,dtype='float16')),\n",
        "          epochs=100, steps_per_epoch = 2, verbose=2,batch_size=4)\n",
        "# est Time 4 to 6 hrs\n"
      ],
      "execution_count": null,
      "outputs": [
        {
          "name": "stdout",
          "output_type": "stream",
          "text": [
            "Epoch 1/100\n",
            "2/2 - 579s - loss: 0.0915 - mse: 0.0915 - val_loss: 0.3553 - val_mse: 0.3553\n",
            "Epoch 2/100\n",
            "2/2 - 559s - loss: 0.0692 - mse: 0.0692 - val_loss: 0.3911 - val_mse: 0.3911\n",
            "Epoch 3/100\n",
            "2/2 - 551s - loss: 0.0780 - mse: 0.0780 - val_loss: 0.3883 - val_mse: 0.3883\n",
            "Epoch 4/100\n",
            "2/2 - 549s - loss: 0.0646 - mse: 0.0646 - val_loss: 0.3699 - val_mse: 0.3699\n",
            "Epoch 5/100\n",
            "2/2 - 547s - loss: 0.0681 - mse: 0.0681 - val_loss: 0.3370 - val_mse: 0.3370\n",
            "Epoch 6/100\n",
            "2/2 - 551s - loss: 0.0626 - mse: 0.0626 - val_loss: 0.2805 - val_mse: 0.2805\n",
            "Epoch 7/100\n"
          ]
        }
      ]
    },
    {
      "cell_type": "code",
      "metadata": {
        "id": "eAerAG1LdNPR"
      },
      "source": [
        "def plot_imgs(img,mask,pred):\n",
        "    mask = np.reshape(mask,(256,256,3))\n",
        "    pred = np.reshape(pred,(256,256,3))\n",
        "    fig,(ax1,ax2,ax3) = plt.subplots(1,3,figsize=(15,10))\n",
        "    ax1.imshow(img)\n",
        "    ax1.axis('off')\n",
        "    ax2.imshow(mask)\n",
        "    ax2.axis('off')\n",
        "    ax3.imshow(pred)\n",
        "    ax3.axis('off')"
      ],
      "execution_count": null,
      "outputs": []
    },
    {
      "cell_type": "code",
      "metadata": {
        "id": "fZMXFJBmmQww"
      },
      "source": [
        "pred_masks = model.predict(np.array(valid_imgs,dtype='float16'))"
      ],
      "execution_count": null,
      "outputs": []
    },
    {
      "cell_type": "code",
      "metadata": {
        "id": "ANTcuY6EmWzZ"
      },
      "source": [
        "print('-------------Input---------------Actual mask--------------Predicted mask-------')\n",
        "for i in range(5):\n",
        "    x = np.random.randint(0,10,size=1)[0]\n",
        "    plot_imgs(valid_imgs[x],valid_masks[x],pred_masks[x])"
      ],
      "execution_count": null,
      "outputs": []
    },
    {
      "cell_type": "code",
      "metadata": {
        "id": "o3iK3ShSwHK2"
      },
      "source": [
        ""
      ],
      "execution_count": null,
      "outputs": []
    }
  ]
}